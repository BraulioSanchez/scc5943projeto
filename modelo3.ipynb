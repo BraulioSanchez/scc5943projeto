{
 "cells": [
  {
   "cell_type": "code",
   "execution_count": 402,
   "metadata": {},
   "outputs": [],
   "source": [
    "# univariate multi-step encoder-decoder lstm\n",
    "from math import sqrt\n",
    "from numpy import split\n",
    "from numpy import array\n",
    "from pandas import read_csv\n",
    "from sklearn.metrics import mean_squared_error\n",
    "from matplotlib import pyplot\n",
    "from keras.models import Sequential\n",
    "from keras.layers import Dense\n",
    "from keras.layers import Flatten\n",
    "from keras.layers import LSTM\n",
    "from keras.layers import RepeatVector\n",
    "from keras.layers import TimeDistributed\n",
    "import keras\n",
    "import numpy as np\n",
    "from keras.layers import Dropout\n",
    "\n",
    "def split_dataset(data, dias, lim_treino):\n",
    "    train, test = data[:lim_treino], data[lim_treino:]\n",
    "    train = array(split(train, len(train)/dias))\n",
    "    test = array(split(test, len(test)/dias))\n",
    "    return train, test\n",
    "\n",
    "# convert history into inputs and outputs\n",
    "def to_supervised(train, n_input, n_out):\n",
    "    data = train#.reshape((train.shape[0]*train.shape[1], train.shape[2]))\n",
    "    X, y = list(), list()\n",
    "    in_start = 0\n",
    "    for _ in range(len(data)):\n",
    "        in_end = in_start + n_input\n",
    "        out_end = in_end + n_out\n",
    "        if out_end < len(data):\n",
    "            x_input = data[in_start:in_end, 0]\n",
    "            x_input = x_input.reshape((len(x_input), 1))\n",
    "            X.append(x_input)\n",
    "            y.append(data[in_end:out_end, 0])\n",
    "        in_start += 1 #movimento pra criacao de outputs\n",
    "    return array(X), array(y)\n",
    "\n",
    "def build_model(train, n_input, dias):\n",
    "    train_x, train_y = to_supervised(train, n_input, dias)\n",
    "    \n",
    "    verbose, epochs, batch_size = 1, 100, 8\n",
    "    n_timesteps, n_features, n_outputs = train_x.shape[1], train_x.shape[2], train_y.shape[1]\n",
    "    train_y = train_y.reshape((train_y.shape[0], train_y.shape[1], 1))\n",
    "    model = Sequential()\n",
    "    model.add(LSTM(16, activation='relu', input_shape=(n_timesteps, n_features), return_sequences=True))\n",
    "    model.add(LSTM(8, activation='relu',return_sequences=False))\n",
    "    model.add(RepeatVector(n_outputs))\n",
    "    model.add(LSTM(8, activation='relu', return_sequences=True))\n",
    "    model.add(LSTM(16, activation='relu', return_sequences=True))\n",
    "    model.add(TimeDistributed(Dense(32, activation='relu')))\n",
    "    model.add(Dropout(0.8))\n",
    "    model.add(TimeDistributed(Dense(1)))\n",
    "    otimizador = keras.optimizers.RMSprop(lr=0.003, rho=0.9, epsilon=None, decay=0.0)\n",
    "    model.compile(loss='mae', optimizer=otimizador)\n",
    "    model.fit(train_x, train_y, epochs=epochs, batch_size=batch_size, verbose=verbose, shuffle=False,\n",
    "              validation_split = 0.01)\n",
    "    model.save('resultado.h5')\n",
    "    return model\n",
    "\n",
    "# make a forecast\n",
    "def forecast(model, history, n_input):\n",
    "    data = array(history)\n",
    "    #data = data.reshape((data.shape[0]*data.shape[1], data.shape[2])) #\n",
    "    input_x = data[-n_input:, 0] #ultimas informacoes pra entrada\n",
    "    input_x = input_x.reshape((1, len(input_x), 1))\n",
    "    yhat = model.predict(input_x, verbose=0)\n",
    "    yhat = yhat[0]\n",
    "    return yhat"
   ]
  },
  {
   "cell_type": "code",
   "execution_count": 403,
   "metadata": {},
   "outputs": [],
   "source": [
    "# evaluate a single model\n",
    "def predizer(train, test, n_input, dias, model):\n",
    "    history = [x for x in train]\n",
    "    predictions = list()\n",
    "    for i in range(len(test)):\n",
    "        yhat_sequence = forecast(model, history, n_input)\n",
    "        predictions.append(yhat_sequence)\n",
    "        history.append(test[i])\n",
    "    return array(predictions)"
   ]
  },
  {
   "cell_type": "markdown",
   "metadata": {},
   "source": [
    "#### Analise de previsao de 5 dias"
   ]
  },
  {
   "cell_type": "code",
   "execution_count": 329,
   "metadata": {
    "collapsed": true
   },
   "outputs": [],
   "source": [
    "dias = 5\n",
    "n_input = 20\n",
    "amostras = 4800\n",
    "lim_treino = amostras - dias"
   ]
  },
  {
   "cell_type": "code",
   "execution_count": 330,
   "metadata": {
    "collapsed": true
   },
   "outputs": [],
   "source": [
    "df = read_csv('/Users/Anderson/Documents/aprendizado/final/scc5943projeto/preprocessing/denoised-series.csv')"
   ]
  },
  {
   "cell_type": "code",
   "execution_count": 331,
   "metadata": {
    "collapsed": true
   },
   "outputs": [],
   "source": [
    "df = df.iloc[:amostras]"
   ]
  },
  {
   "cell_type": "code",
   "execution_count": 332,
   "metadata": {},
   "outputs": [],
   "source": [
    "dataset = df['denoised']"
   ]
  },
  {
   "cell_type": "code",
   "execution_count": 333,
   "metadata": {},
   "outputs": [],
   "source": [
    "train, test = split_dataset(dataset.values, dias, lim_treino)"
   ]
  },
  {
   "cell_type": "code",
   "execution_count": 334,
   "metadata": {
    "scrolled": false
   },
   "outputs": [
    {
     "name": "stdout",
     "output_type": "stream",
     "text": [
      "Train on 185 samples, validate on 2 samples\n",
      "Epoch 1/100\n",
      "185/185 [==============================] - 10s 54ms/step - loss: 246.3487 - val_loss: 1035.4062\n",
      "Epoch 2/100\n",
      "185/185 [==============================] - 1s 6ms/step - loss: 188.6636 - val_loss: 2937.1338\n",
      "Epoch 3/100\n",
      "185/185 [==============================] - 1s 6ms/step - loss: 186.4466 - val_loss: 1001.9972\n",
      "Epoch 4/100\n",
      "185/185 [==============================] - 1s 6ms/step - loss: 201.0464 - val_loss: 1243.3147\n",
      "Epoch 5/100\n",
      "185/185 [==============================] - 1s 6ms/step - loss: 176.6653 - val_loss: 732.6782\n",
      "Epoch 6/100\n",
      "185/185 [==============================] - 1s 6ms/step - loss: 155.1880 - val_loss: 560.6079\n",
      "Epoch 7/100\n",
      "185/185 [==============================] - 1s 6ms/step - loss: 159.7288 - val_loss: 1293.5896\n",
      "Epoch 8/100\n",
      "185/185 [==============================] - 1s 5ms/step - loss: 126.2584 - val_loss: 552.4625\n",
      "Epoch 9/100\n",
      "185/185 [==============================] - 1s 6ms/step - loss: 130.2434 - val_loss: 750.9902\n",
      "Epoch 10/100\n",
      "185/185 [==============================] - 1s 6ms/step - loss: 143.9986 - val_loss: 623.3578\n",
      "Epoch 11/100\n",
      "185/185 [==============================] - 1s 5ms/step - loss: 123.5139 - val_loss: 1567.5156\n",
      "Epoch 12/100\n",
      "185/185 [==============================] - 1s 6ms/step - loss: 116.4811 - val_loss: 857.7576\n",
      "Epoch 13/100\n",
      "185/185 [==============================] - 1s 6ms/step - loss: 112.3674 - val_loss: 404.6669\n",
      "Epoch 14/100\n",
      "185/185 [==============================] - 1s 6ms/step - loss: 126.1214 - val_loss: 483.6530\n",
      "Epoch 15/100\n",
      "185/185 [==============================] - 1s 6ms/step - loss: 115.2997 - val_loss: 578.7629\n",
      "Epoch 16/100\n",
      "185/185 [==============================] - 1s 6ms/step - loss: 114.6710 - val_loss: 461.9935\n",
      "Epoch 17/100\n",
      "185/185 [==============================] - 1s 6ms/step - loss: 121.0069 - val_loss: 1891.1771\n",
      "Epoch 18/100\n",
      "185/185 [==============================] - 1s 6ms/step - loss: 125.2359 - val_loss: 233.4988\n",
      "Epoch 19/100\n",
      "185/185 [==============================] - 1s 6ms/step - loss: 125.2622 - val_loss: 1663.8744\n",
      "Epoch 20/100\n",
      "185/185 [==============================] - 1s 5ms/step - loss: 160.9082 - val_loss: 1653.9197\n",
      "Epoch 21/100\n",
      "185/185 [==============================] - 1s 6ms/step - loss: 124.5677 - val_loss: 590.7239\n",
      "Epoch 22/100\n",
      "185/185 [==============================] - 1s 6ms/step - loss: 122.9999 - val_loss: 693.4048\n",
      "Epoch 23/100\n",
      "185/185 [==============================] - 1s 6ms/step - loss: 103.2607 - val_loss: 187.9723\n",
      "Epoch 24/100\n",
      "185/185 [==============================] - 1s 5ms/step - loss: 97.3863 - val_loss: 403.2112\n",
      "Epoch 25/100\n",
      "185/185 [==============================] - 1s 5ms/step - loss: 113.6076 - val_loss: 402.8678\n",
      "Epoch 26/100\n",
      "185/185 [==============================] - 1s 6ms/step - loss: 136.4792 - val_loss: 521.9156\n",
      "Epoch 27/100\n",
      "185/185 [==============================] - 1s 6ms/step - loss: 183.3578 - val_loss: 588.9573\n",
      "Epoch 28/100\n",
      "185/185 [==============================] - 1s 5ms/step - loss: 195.8972 - val_loss: 348.5020\n",
      "Epoch 29/100\n",
      "185/185 [==============================] - 1s 5ms/step - loss: 119.1199 - val_loss: 466.3295\n",
      "Epoch 30/100\n",
      "185/185 [==============================] - 1s 6ms/step - loss: 128.0881 - val_loss: 453.0500\n",
      "Epoch 31/100\n",
      "185/185 [==============================] - 1s 6ms/step - loss: 188.5590 - val_loss: 407.6726\n",
      "Epoch 32/100\n",
      "185/185 [==============================] - 1s 6ms/step - loss: 157.2478 - val_loss: 736.5881\n",
      "Epoch 33/100\n",
      "185/185 [==============================] - 1s 5ms/step - loss: 236.9199 - val_loss: 1663.7538\n",
      "Epoch 34/100\n",
      "185/185 [==============================] - 1s 5ms/step - loss: 253.3706 - val_loss: 1660.9171\n",
      "Epoch 35/100\n",
      "185/185 [==============================] - 1s 5ms/step - loss: 257.6469 - val_loss: 1634.9526\n",
      "Epoch 36/100\n",
      "185/185 [==============================] - 1s 6ms/step - loss: 240.1984 - val_loss: 1557.5129\n",
      "Epoch 37/100\n",
      "185/185 [==============================] - 1s 6ms/step - loss: 156.2908 - val_loss: 845.5388\n",
      "Epoch 38/100\n",
      "185/185 [==============================] - 1s 5ms/step - loss: 191.5124 - val_loss: 484.3759\n",
      "Epoch 39/100\n",
      "185/185 [==============================] - 1s 6ms/step - loss: 232.2494 - val_loss: 273.6958\n",
      "Epoch 40/100\n",
      "185/185 [==============================] - 1s 5ms/step - loss: 122.4391 - val_loss: 390.2791\n",
      "Epoch 41/100\n",
      "185/185 [==============================] - 1s 6ms/step - loss: 113.8373 - val_loss: 2611.5181\n",
      "Epoch 42/100\n",
      "185/185 [==============================] - 1s 6ms/step - loss: 120.2903 - val_loss: 331.9916\n",
      "Epoch 43/100\n",
      "185/185 [==============================] - 1s 6ms/step - loss: 140.5998 - val_loss: 368.9219\n",
      "Epoch 44/100\n",
      "185/185 [==============================] - 1s 6ms/step - loss: 145.5472 - val_loss: 590.2070\n",
      "Epoch 45/100\n",
      "185/185 [==============================] - 1s 6ms/step - loss: 124.9216 - val_loss: 354.7453\n",
      "Epoch 46/100\n",
      "185/185 [==============================] - 1s 6ms/step - loss: 149.3825 - val_loss: 835.1787\n",
      "Epoch 47/100\n",
      "185/185 [==============================] - 1s 6ms/step - loss: 156.7621 - val_loss: 1029.8259\n",
      "Epoch 48/100\n",
      "185/185 [==============================] - 1s 5ms/step - loss: 162.9565 - val_loss: 1170.2263\n",
      "Epoch 49/100\n",
      "185/185 [==============================] - 1s 6ms/step - loss: 111.4887 - val_loss: 410.3143\n",
      "Epoch 50/100\n",
      "185/185 [==============================] - 1s 6ms/step - loss: 115.6457 - val_loss: 628.9407\n",
      "Epoch 51/100\n",
      "185/185 [==============================] - 1s 6ms/step - loss: 102.2672 - val_loss: 443.1807\n",
      "Epoch 52/100\n",
      "185/185 [==============================] - 2s 9ms/step - loss: 106.4196 - val_loss: 1601.9324\n",
      "Epoch 53/100\n",
      "185/185 [==============================] - 1s 6ms/step - loss: 186.0082 - val_loss: 1550.9630\n",
      "Epoch 54/100\n",
      "185/185 [==============================] - 1s 6ms/step - loss: 178.1958 - val_loss: 1323.8948\n",
      "Epoch 55/100\n",
      "185/185 [==============================] - 1s 5ms/step - loss: 150.0270 - val_loss: 497.0377\n",
      "Epoch 56/100\n",
      "185/185 [==============================] - 1s 6ms/step - loss: 108.4245 - val_loss: 373.9871\n",
      "Epoch 57/100\n",
      "185/185 [==============================] - 1s 6ms/step - loss: 102.4747 - val_loss: 342.5695\n",
      "Epoch 58/100\n",
      "185/185 [==============================] - 1s 6ms/step - loss: 104.3203 - val_loss: 296.2882\n",
      "Epoch 59/100\n",
      "185/185 [==============================] - 1s 7ms/step - loss: 100.5323 - val_loss: 223.0193\n",
      "Epoch 60/100\n",
      "185/185 [==============================] - 1s 7ms/step - loss: 92.3509 - val_loss: 455.2879\n",
      "Epoch 61/100\n",
      "185/185 [==============================] - 1s 6ms/step - loss: 192.4836 - val_loss: 1490.2239\n",
      "Epoch 62/100\n",
      "185/185 [==============================] - 1s 6ms/step - loss: 110.4594 - val_loss: 140.0918\n",
      "Epoch 63/100\n",
      "185/185 [==============================] - 1s 7ms/step - loss: 93.5825 - val_loss: 208.2617\n",
      "Epoch 64/100\n",
      "185/185 [==============================] - 1s 6ms/step - loss: 91.7619 - val_loss: 268.6334\n",
      "Epoch 65/100\n",
      "185/185 [==============================] - 1s 6ms/step - loss: 93.6715 - val_loss: 119.8626\n",
      "Epoch 66/100\n",
      "185/185 [==============================] - 1s 6ms/step - loss: 95.6356 - val_loss: 1289.2007\n",
      "Epoch 67/100\n",
      "185/185 [==============================] - 1s 6ms/step - loss: 146.3882 - val_loss: 1405.6143\n",
      "Epoch 68/100\n",
      "185/185 [==============================] - 1s 6ms/step - loss: 103.6683 - val_loss: 1300.5742\n",
      "Epoch 69/100\n",
      "185/185 [==============================] - 1s 7ms/step - loss: 106.2715 - val_loss: 772.8763\n",
      "Epoch 70/100\n",
      "185/185 [==============================] - 1s 6ms/step - loss: 99.3999 - val_loss: 292.8007\n",
      "Epoch 71/100\n",
      "185/185 [==============================] - 1s 6ms/step - loss: 138.3843 - val_loss: 352.0133\n",
      "Epoch 72/100\n",
      "185/185 [==============================] - 1s 6ms/step - loss: 88.8872 - val_loss: 375.5724\n",
      "Epoch 73/100\n",
      "185/185 [==============================] - 1s 6ms/step - loss: 102.7920 - val_loss: 594.9771\n",
      "Epoch 74/100\n",
      "185/185 [==============================] - 1s 5ms/step - loss: 122.9006 - val_loss: 298.5916\n",
      "Epoch 75/100\n",
      "185/185 [==============================] - 1s 6ms/step - loss: 144.2881 - val_loss: 487.5520\n",
      "Epoch 76/100\n",
      "185/185 [==============================] - 1s 6ms/step - loss: 122.1598 - val_loss: 758.3981\n",
      "Epoch 77/100\n",
      "185/185 [==============================] - 1s 6ms/step - loss: 91.6367 - val_loss: 268.0976\n"
     ]
    },
    {
     "name": "stdout",
     "output_type": "stream",
     "text": [
      "Epoch 78/100\n",
      "185/185 [==============================] - 1s 6ms/step - loss: 147.9313 - val_loss: 1981.0151\n",
      "Epoch 79/100\n",
      "185/185 [==============================] - 1s 6ms/step - loss: 97.2250 - val_loss: 542.2321\n",
      "Epoch 80/100\n",
      "185/185 [==============================] - 1s 6ms/step - loss: 98.5559 - val_loss: 388.4734\n",
      "Epoch 81/100\n",
      "185/185 [==============================] - 1s 5ms/step - loss: 94.5998 - val_loss: 327.6185\n",
      "Epoch 82/100\n",
      "185/185 [==============================] - 1s 6ms/step - loss: 84.5403 - val_loss: 325.8724\n",
      "Epoch 83/100\n",
      "185/185 [==============================] - 1s 6ms/step - loss: 92.9567 - val_loss: 653.4661\n",
      "Epoch 84/100\n",
      "185/185 [==============================] - 1s 6ms/step - loss: 102.7689 - val_loss: 130.3879\n",
      "Epoch 85/100\n",
      "185/185 [==============================] - 1s 6ms/step - loss: 85.3398 - val_loss: 145.9643\n",
      "Epoch 86/100\n",
      "185/185 [==============================] - 1s 6ms/step - loss: 94.7093 - val_loss: 308.5538\n",
      "Epoch 87/100\n",
      "185/185 [==============================] - 1s 7ms/step - loss: 102.5877 - val_loss: 181.9161\n",
      "Epoch 88/100\n",
      "185/185 [==============================] - 1s 6ms/step - loss: 92.9447 - val_loss: 98.6736\n",
      "Epoch 89/100\n",
      "185/185 [==============================] - 1s 6ms/step - loss: 94.2732 - val_loss: 440.1865\n",
      "Epoch 90/100\n",
      "185/185 [==============================] - 1s 6ms/step - loss: 90.5755 - val_loss: 389.9872\n",
      "Epoch 91/100\n",
      "185/185 [==============================] - 1s 6ms/step - loss: 92.7282 - val_loss: 705.0736\n",
      "Epoch 92/100\n",
      "185/185 [==============================] - 1s 6ms/step - loss: 90.7360 - val_loss: 411.0467\n",
      "Epoch 93/100\n",
      "185/185 [==============================] - 1s 6ms/step - loss: 90.3698 - val_loss: 183.1138\n",
      "Epoch 94/100\n",
      "185/185 [==============================] - 1s 7ms/step - loss: 91.6453 - val_loss: 179.2461\n",
      "Epoch 95/100\n",
      "185/185 [==============================] - 1s 7ms/step - loss: 96.2812 - val_loss: 472.2110\n",
      "Epoch 96/100\n",
      "185/185 [==============================] - ETA: 0s - loss: 94.34 - 1s 6ms/step - loss: 97.7623 - val_loss: 369.3154\n",
      "Epoch 97/100\n",
      "185/185 [==============================] - 1s 6ms/step - loss: 99.0062 - val_loss: 543.3446\n",
      "Epoch 98/100\n",
      "185/185 [==============================] - 1s 6ms/step - loss: 100.6557 - val_loss: 185.8845\n",
      "Epoch 99/100\n",
      "185/185 [==============================] - 1s 6ms/step - loss: 97.6029 - val_loss: 258.3331\n",
      "Epoch 100/100\n",
      "185/185 [==============================] - 1s 6ms/step - loss: 91.6370 - val_loss: 581.4932\n"
     ]
    }
   ],
   "source": [
    "model = build_model(train, n_input, dias)"
   ]
  },
  {
   "cell_type": "code",
   "execution_count": 335,
   "metadata": {},
   "outputs": [],
   "source": [
    "pred = predizer(train, test, n_input, dias, model)"
   ]
  },
  {
   "cell_type": "code",
   "execution_count": 336,
   "metadata": {},
   "outputs": [
    {
     "data": {
      "image/png": "[encoded data removed]",
      "text/plain": [
       "<Figure size 720x576 with 1 Axes>"
      ]
     },
     "metadata": {},
     "output_type": "display_data"
    }
   ],
   "source": [
    "import matplotlib.pyplot as plt\n",
    "plt.figure(figsize=(10,8))\n",
    "plt.plot(test.flatten(), label = 'real')\n",
    "plt.plot(pred.flatten(), label = 'predito')\n",
    "plt.legend()\n",
    "plt.show()"
   ]
  },
  {
   "cell_type": "code",
   "execution_count": 337,
   "metadata": {
    "collapsed": true
   },
   "outputs": [],
   "source": [
    "dias = 5\n",
    "n_input = 20\n",
    "amostras = 4860\n",
    "lim_treino = amostras - dias"
   ]
  },
  {
   "cell_type": "code",
   "execution_count": 338,
   "metadata": {
    "collapsed": true
   },
   "outputs": [],
   "source": [
    "df = read_csv('/Users/Anderson/Documents/aprendizado/final/scc5943projeto/preprocessing/denoised-series.csv')\n",
    "df = df.iloc[:amostras]\n",
    "dataset = df['denoised']"
   ]
  },
  {
   "cell_type": "code",
   "execution_count": 339,
   "metadata": {},
   "outputs": [],
   "source": [
    "train, test = split_dataset(dataset.values, dias, lim_treino)"
   ]
  },
  {
   "cell_type": "code",
   "execution_count": 340,
   "metadata": {},
   "outputs": [],
   "source": [
    "pred = predizer(train, test, n_input, dias, model)"
   ]
  },
  {
   "cell_type": "code",
   "execution_count": 341,
   "metadata": {},
   "outputs": [
    {
     "data": {
      "image/png": "[encoded data removed]",
      "text/plain": [
       "<Figure size 720x576 with 1 Axes>"
      ]
     },
     "metadata": {},
     "output_type": "display_data"
    }
   ],
   "source": [
    "import matplotlib.pyplot as plt\n",
    "plt.figure(figsize=(10,8))\n",
    "plt.plot(test.flatten(), label = 'real')\n",
    "plt.plot(pred.flatten(), label = 'predito')\n",
    "plt.legend()\n",
    "plt.show()"
   ]
  },
  {
   "cell_type": "markdown",
   "metadata": {
    "collapsed": true
   },
   "source": [
    "#### Analise de previsao de 10 dias"
   ]
  },
  {
   "cell_type": "code",
   "execution_count": 413,
   "metadata": {
    "collapsed": true
   },
   "outputs": [],
   "source": [
    "dias = 10\n",
    "n_input = 30\n",
    "amostras = 4600\n",
    "lim_treino = amostras - dias"
   ]
  },
  {
   "cell_type": "code",
   "execution_count": 414,
   "metadata": {
    "collapsed": true
   },
   "outputs": [],
   "source": [
    "df = read_csv('/Users/Anderson/Documents/aprendizado/final/scc5943projeto/preprocessing/denoised-series.csv')\n",
    "\n",
    "df = df.iloc[:amostras]\n",
    "\n",
    "dataset = df['denoised']\n",
    "\n",
    "train, test = split_dataset(dataset.values, dias, lim_treino)"
   ]
  },
  {
   "cell_type": "code",
   "execution_count": 415,
   "metadata": {
    "collapsed": true
   },
   "outputs": [],
   "source": [
    "train, test = split_dataset(dataset.values, dias, lim_treino)"
   ]
  },
  {
   "cell_type": "code",
   "execution_count": 416,
   "metadata": {
    "scrolled": false
   },
   "outputs": [
    {
     "name": "stdout",
     "output_type": "stream",
     "text": [
      "Train on 414 samples, validate on 5 samples\n",
      "Epoch 1/100\n",
      "414/414 [==============================] - 18s 44ms/step - loss: 243.9323 - val_loss: 1020.7635\n",
      "Epoch 2/100\n",
      "414/414 [==============================] - 4s 10ms/step - loss: 176.2705 - val_loss: 930.0323\n",
      "Epoch 3/100\n",
      "414/414 [==============================] - 5s 12ms/step - loss: 184.6553 - val_loss: 877.6815\n",
      "Epoch 4/100\n",
      "414/414 [==============================] - 4s 10ms/step - loss: 180.2364 - val_loss: 876.4341\n",
      "Epoch 5/100\n",
      "414/414 [==============================] - 4s 10ms/step - loss: 186.1290 - val_loss: 1004.4168\n",
      "Epoch 6/100\n",
      "414/414 [==============================] - 4s 9ms/step - loss: 212.8511 - val_loss: 987.5394\n",
      "Epoch 7/100\n",
      "414/414 [==============================] - 5s 11ms/step - loss: 170.8362 - val_loss: 812.6298\n",
      "Epoch 8/100\n",
      "414/414 [==============================] - 4s 11ms/step - loss: 214.5064 - val_loss: 807.5550\n",
      "Epoch 9/100\n",
      "414/414 [==============================] - 4s 11ms/step - loss: 170.7891 - val_loss: 805.9137\n",
      "Epoch 10/100\n",
      "414/414 [==============================] - 5s 11ms/step - loss: 158.6370 - val_loss: 604.6754\n",
      "Epoch 11/100\n",
      "414/414 [==============================] - 4s 10ms/step - loss: 172.7817 - val_loss: 821.5319\n",
      "Epoch 12/100\n",
      "414/414 [==============================] - 5s 11ms/step - loss: 169.3830 - val_loss: 859.1996\n",
      "Epoch 13/100\n",
      "414/414 [==============================] - 4s 9ms/step - loss: 154.5650 - val_loss: 591.4767\n",
      "Epoch 14/100\n",
      "414/414 [==============================] - 3s 8ms/step - loss: 162.0045 - val_loss: 626.8851\n",
      "Epoch 15/100\n",
      "414/414 [==============================] - 4s 8ms/step - loss: 154.8301 - val_loss: 609.1761\n",
      "Epoch 16/100\n",
      "414/414 [==============================] - 4s 9ms/step - loss: 153.3452 - val_loss: 718.8817\n",
      "Epoch 17/100\n",
      "414/414 [==============================] - 4s 9ms/step - loss: 148.2993 - val_loss: 727.8328\n",
      "Epoch 18/100\n",
      "414/414 [==============================] - 3s 8ms/step - loss: 147.1086 - val_loss: 633.5917\n",
      "Epoch 19/100\n",
      "414/414 [==============================] - 4s 9ms/step - loss: 154.0299 - val_loss: 772.6388\n",
      "Epoch 20/100\n",
      "414/414 [==============================] - 4s 11ms/step - loss: 148.8530 - val_loss: 416.4652\n",
      "Epoch 21/100\n",
      "414/414 [==============================] - 4s 10ms/step - loss: 159.2670 - val_loss: 680.4791\n",
      "Epoch 22/100\n",
      "414/414 [==============================] - 5s 12ms/step - loss: 147.5468 - val_loss: 696.9085\n",
      "Epoch 23/100\n",
      "414/414 [==============================] - 5s 11ms/step - loss: 150.6199 - val_loss: 470.2700\n",
      "Epoch 24/100\n",
      "414/414 [==============================] - 4s 9ms/step - loss: 163.0391 - val_loss: 383.0063\n",
      "Epoch 25/100\n",
      "414/414 [==============================] - 4s 9ms/step - loss: 174.5330 - val_loss: 566.8602\n",
      "Epoch 26/100\n",
      "414/414 [==============================] - 4s 9ms/step - loss: 155.5749 - val_loss: 639.9247\n",
      "Epoch 27/100\n",
      "414/414 [==============================] - 4s 9ms/step - loss: 148.0602 - val_loss: 681.4106\n",
      "Epoch 28/100\n",
      "414/414 [==============================] - 4s 9ms/step - loss: 153.7479 - val_loss: 664.8797\n",
      "Epoch 29/100\n",
      "414/414 [==============================] - 4s 9ms/step - loss: 148.5754 - val_loss: 348.0200\n",
      "Epoch 30/100\n",
      "414/414 [==============================] - 4s 9ms/step - loss: 163.5049 - val_loss: 615.9360\n",
      "Epoch 31/100\n",
      "414/414 [==============================] - 3s 8ms/step - loss: 149.6396 - val_loss: 621.1315\n",
      "Epoch 32/100\n",
      "414/414 [==============================] - 4s 9ms/step - loss: 143.9606 - val_loss: 532.6371\n",
      "Epoch 33/100\n",
      "414/414 [==============================] - 3s 8ms/step - loss: 149.7473 - val_loss: 747.5432\n",
      "Epoch 34/100\n",
      "414/414 [==============================] - 3s 8ms/step - loss: 141.8917 - val_loss: 567.9879\n",
      "Epoch 35/100\n",
      "414/414 [==============================] - 3s 8ms/step - loss: 150.9383 - val_loss: 409.1329\n",
      "Epoch 36/100\n",
      "414/414 [==============================] - 3s 8ms/step - loss: 153.8713 - val_loss: 404.0631\n",
      "Epoch 37/100\n",
      "414/414 [==============================] - 4s 9ms/step - loss: 157.8542 - val_loss: 463.7748\n",
      "Epoch 38/100\n",
      "414/414 [==============================] - 4s 8ms/step - loss: 154.2463 - val_loss: 583.5822\n",
      "Epoch 39/100\n",
      "414/414 [==============================] - 3s 8ms/step - loss: 149.5216 - val_loss: 630.3964\n",
      "Epoch 40/100\n",
      "414/414 [==============================] - 3s 8ms/step - loss: 140.4406 - val_loss: 668.7033\n",
      "Epoch 41/100\n",
      "414/414 [==============================] - 4s 10ms/step - loss: 143.1740 - val_loss: 339.3367\n",
      "Epoch 42/100\n",
      "414/414 [==============================] - 4s 9ms/step - loss: 160.9548 - val_loss: 716.6273\n",
      "Epoch 43/100\n",
      "414/414 [==============================] - 4s 9ms/step - loss: 135.4443 - val_loss: 769.5573\n",
      "Epoch 44/100\n",
      "414/414 [==============================] - 4s 9ms/step - loss: 136.7532 - val_loss: 429.2163\n",
      "Epoch 45/100\n",
      "414/414 [==============================] - 4s 9ms/step - loss: 147.3560 - val_loss: 686.5306\n",
      "Epoch 46/100\n",
      "414/414 [==============================] - 4s 9ms/step - loss: 140.1513 - val_loss: 369.5510\n",
      "Epoch 47/100\n",
      "414/414 [==============================] - 4s 9ms/step - loss: 159.1925 - val_loss: 583.7985\n",
      "Epoch 48/100\n",
      "414/414 [==============================] - 3s 8ms/step - loss: 150.7714 - val_loss: 682.6664\n",
      "Epoch 49/100\n",
      "414/414 [==============================] - 4s 9ms/step - loss: 152.7691 - val_loss: 444.0026\n",
      "Epoch 50/100\n",
      "414/414 [==============================] - 4s 9ms/step - loss: 167.7614 - val_loss: 513.1293\n",
      "Epoch 51/100\n",
      "414/414 [==============================] - 4s 9ms/step - loss: 152.1780 - val_loss: 317.8689\n",
      "Epoch 52/100\n",
      "414/414 [==============================] - 4s 9ms/step - loss: 155.8765 - val_loss: 396.8315\n",
      "Epoch 53/100\n",
      "414/414 [==============================] - 4s 9ms/step - loss: 150.3035 - val_loss: 711.7708\n",
      "Epoch 54/100\n",
      "414/414 [==============================] - 4s 9ms/step - loss: 155.5274 - val_loss: 545.0856\n",
      "Epoch 55/100\n",
      "414/414 [==============================] - 4s 9ms/step - loss: 145.6455 - val_loss: 479.0426\n",
      "Epoch 56/100\n",
      "414/414 [==============================] - 4s 8ms/step - loss: 146.5267 - val_loss: 627.7614\n",
      "Epoch 57/100\n",
      "414/414 [==============================] - 4s 9ms/step - loss: 186.3577 - val_loss: 565.8172\n",
      "Epoch 58/100\n",
      "414/414 [==============================] - 4s 8ms/step - loss: 148.3872 - val_loss: 290.2199\n",
      "Epoch 59/100\n",
      "414/414 [==============================] - 3s 8ms/step - loss: 155.5204 - val_loss: 389.9244\n",
      "Epoch 60/100\n",
      "414/414 [==============================] - 4s 9ms/step - loss: 150.3619 - val_loss: 465.2845\n",
      "Epoch 61/100\n",
      "414/414 [==============================] - 4s 9ms/step - loss: 156.8370 - val_loss: 604.1605\n",
      "Epoch 62/100\n",
      "414/414 [==============================] - 4s 9ms/step - loss: 168.8605 - val_loss: 531.1114\n",
      "Epoch 63/100\n",
      "414/414 [==============================] - 4s 9ms/step - loss: 152.0666 - val_loss: 307.4807\n",
      "Epoch 64/100\n",
      "414/414 [==============================] - 4s 9ms/step - loss: 164.0903 - val_loss: 737.9711\n",
      "Epoch 65/100\n",
      "414/414 [==============================] - 4s 9ms/step - loss: 145.1827 - val_loss: 448.2919\n",
      "Epoch 66/100\n",
      "414/414 [==============================] - 4s 9ms/step - loss: 145.6292 - val_loss: 516.4852\n",
      "Epoch 67/100\n",
      "414/414 [==============================] - 4s 9ms/step - loss: 148.4704 - val_loss: 479.9533\n",
      "Epoch 68/100\n",
      "414/414 [==============================] - 4s 9ms/step - loss: 143.0926 - val_loss: 331.7337\n",
      "Epoch 69/100\n",
      "414/414 [==============================] - 4s 10ms/step - loss: 144.0140 - val_loss: 632.7489\n",
      "Epoch 70/100\n",
      "414/414 [==============================] - 4s 9ms/step - loss: 128.3905 - val_loss: 440.9971\n",
      "Epoch 71/100\n",
      "414/414 [==============================] - 4s 9ms/step - loss: 140.2950 - val_loss: 482.0712\n",
      "Epoch 72/100\n",
      "414/414 [==============================] - 4s 9ms/step - loss: 140.7530 - val_loss: 493.2292\n",
      "Epoch 73/100\n",
      "414/414 [==============================] - 4s 9ms/step - loss: 143.4321 - val_loss: 470.3216\n",
      "Epoch 74/100\n",
      "414/414 [==============================] - 4s 9ms/step - loss: 138.7743 - val_loss: 477.0937\n",
      "Epoch 75/100\n",
      "414/414 [==============================] - 4s 9ms/step - loss: 139.5680 - val_loss: 692.4954\n",
      "Epoch 76/100\n",
      "414/414 [==============================] - 4s 9ms/step - loss: 128.6288 - val_loss: 416.6234\n",
      "Epoch 77/100\n",
      "414/414 [==============================] - 4s 9ms/step - loss: 157.7621 - val_loss: 572.1656\n"
     ]
    },
    {
     "name": "stdout",
     "output_type": "stream",
     "text": [
      "Epoch 78/100\n",
      "414/414 [==============================] - 3s 8ms/step - loss: 160.4400 - val_loss: 724.7597\n",
      "Epoch 79/100\n",
      "414/414 [==============================] - 3s 8ms/step - loss: 140.8648 - val_loss: 798.5795\n",
      "Epoch 80/100\n",
      "414/414 [==============================] - 3s 8ms/step - loss: 194.1749 - val_loss: 377.9890\n",
      "Epoch 81/100\n",
      "414/414 [==============================] - 3s 8ms/step - loss: 146.4789 - val_loss: 742.2877\n",
      "Epoch 82/100\n",
      "414/414 [==============================] - 3s 8ms/step - loss: 131.1120 - val_loss: 711.1727\n",
      "Epoch 83/100\n",
      "414/414 [==============================] - 4s 9ms/step - loss: 142.8982 - val_loss: 509.4656\n",
      "Epoch 84/100\n",
      "414/414 [==============================] - 4s 8ms/step - loss: 148.9748 - val_loss: 279.8982\n",
      "Epoch 85/100\n",
      "414/414 [==============================] - 4s 9ms/step - loss: 146.2632 - val_loss: 755.4570\n",
      "Epoch 86/100\n",
      "414/414 [==============================] - 4s 8ms/step - loss: 131.2086 - val_loss: 617.3800\n",
      "Epoch 87/100\n",
      "414/414 [==============================] - 4s 9ms/step - loss: 134.4614 - val_loss: 482.8909\n",
      "Epoch 88/100\n",
      "414/414 [==============================] - 3s 8ms/step - loss: 142.1916 - val_loss: 486.4570\n",
      "Epoch 89/100\n",
      "414/414 [==============================] - 3s 8ms/step - loss: 133.4222 - val_loss: 583.2528\n",
      "Epoch 90/100\n",
      "414/414 [==============================] - 4s 9ms/step - loss: 135.4043 - val_loss: 423.1686\n",
      "Epoch 91/100\n",
      "414/414 [==============================] - 3s 8ms/step - loss: 141.7471 - val_loss: 327.1632\n",
      "Epoch 92/100\n",
      "414/414 [==============================] - 4s 9ms/step - loss: 144.0048 - val_loss: 483.9107\n",
      "Epoch 93/100\n",
      "414/414 [==============================] - 4s 9ms/step - loss: 173.3855 - val_loss: 277.7158\n",
      "Epoch 94/100\n",
      "414/414 [==============================] - 3s 8ms/step - loss: 145.9432 - val_loss: 592.2858\n",
      "Epoch 95/100\n",
      "414/414 [==============================] - 4s 9ms/step - loss: 129.5532 - val_loss: 551.4851\n",
      "Epoch 96/100\n",
      "414/414 [==============================] - 4s 10ms/step - loss: 134.7633 - val_loss: 323.3401\n",
      "Epoch 97/100\n",
      "414/414 [==============================] - 4s 9ms/step - loss: 144.9736 - val_loss: 430.6156\n",
      "Epoch 98/100\n",
      "414/414 [==============================] - 4s 9ms/step - loss: 143.0582 - val_loss: 563.8029\n",
      "Epoch 99/100\n",
      "414/414 [==============================] - 4s 9ms/step - loss: 131.9868 - val_loss: 647.9800\n",
      "Epoch 100/100\n",
      "414/414 [==============================] - 4s 9ms/step - loss: 135.4773 - val_loss: 542.8544\n"
     ]
    }
   ],
   "source": [
    "model = build_model(train, n_input, dias)"
   ]
  },
  {
   "cell_type": "code",
   "execution_count": 417,
   "metadata": {
    "collapsed": true
   },
   "outputs": [],
   "source": [
    "pred = predizer(train, test, n_input, dias, model)"
   ]
  },
  {
   "cell_type": "code",
   "execution_count": 418,
   "metadata": {},
   "outputs": [
    {
     "data": {
      "image/png": "[encoded data removed]",
      "text/plain": [
       "<Figure size 720x576 with 1 Axes>"
      ]
     },
     "metadata": {},
     "output_type": "display_data"
    }
   ],
   "source": [
    "import matplotlib.pyplot as plt\n",
    "plt.figure(figsize=(10,8))\n",
    "plt.plot(test.flatten(), label = 'real')\n",
    "plt.plot(pred.flatten(), label = 'predito')\n",
    "plt.legend()\n",
    "plt.show()"
   ]
  },
  {
   "cell_type": "code",
   "execution_count": 422,
   "metadata": {
    "collapsed": true
   },
   "outputs": [],
   "source": [
    "dias = 10\n",
    "n_input = 30\n",
    "amostras = 4800\n",
    "lim_treino = amostras - dias"
   ]
  },
  {
   "cell_type": "code",
   "execution_count": 423,
   "metadata": {
    "collapsed": true
   },
   "outputs": [],
   "source": [
    "df = read_csv('/Users/Anderson/Documents/aprendizado/final/scc5943projeto/preprocessing/denoised-series.csv')\n",
    "\n",
    "df = df.iloc[:amostras]\n",
    "\n",
    "dataset = df['denoised']\n",
    "\n",
    "train, test = split_dataset(dataset.values, dias, lim_treino)"
   ]
  },
  {
   "cell_type": "code",
   "execution_count": 424,
   "metadata": {},
   "outputs": [],
   "source": [
    "pred = predizer(train, test, n_input, dias, model)"
   ]
  },
  {
   "cell_type": "code",
   "execution_count": 425,
   "metadata": {},
   "outputs": [
    {
     "data": {
      "image/png": "[encoded data removed]",
      "text/plain": [
       "<Figure size 720x576 with 1 Axes>"
      ]
     },
     "metadata": {},
     "output_type": "display_data"
    }
   ],
   "source": [
    "import matplotlib.pyplot as plt\n",
    "plt.figure(figsize=(10,8))\n",
    "plt.plot(test.flatten(), label = 'real')\n",
    "plt.plot(pred.flatten(), label = 'predito')\n",
    "plt.legend()\n",
    "plt.show()"
   ]
  },
  {
   "cell_type": "markdown",
   "metadata": {},
   "source": [
    "#### Analise de previsao de 20 dias"
   ]
  },
  {
   "cell_type": "code",
   "execution_count": 437,
   "metadata": {
    "collapsed": true
   },
   "outputs": [],
   "source": [
    "dias = 20\n",
    "n_input = 60\n",
    "amostras = 4600\n",
    "lim_treino = amostras - dias"
   ]
  },
  {
   "cell_type": "code",
   "execution_count": 438,
   "metadata": {},
   "outputs": [],
   "source": [
    "df = read_csv('/Users/Anderson/Documents/aprendizado/final/scc5943projeto/preprocessing/denoised-series.csv')\n",
    "\n",
    "df = df.iloc[:amostras]\n",
    "\n",
    "dataset = df['denoised']\n",
    "\n",
    "train, test = split_dataset(dataset.values, dias, lim_treino)"
   ]
  },
  {
   "cell_type": "code",
   "execution_count": 439,
   "metadata": {
    "collapsed": true
   },
   "outputs": [],
   "source": [
    "train, test = split_dataset(dataset.values, dias, lim_treino)"
   ]
  },
  {
   "cell_type": "code",
   "execution_count": 440,
   "metadata": {
    "collapsed": true
   },
   "outputs": [],
   "source": [
    "train, test = split_dataset(dataset.values, dias, lim_treino)"
   ]
  },
  {
   "cell_type": "code",
   "execution_count": 441,
   "metadata": {
    "scrolled": false
   },
   "outputs": [
    {
     "name": "stdout",
     "output_type": "stream",
     "text": [
      "Train on 147 samples, validate on 2 samples\n",
      "Epoch 1/100\n",
      "147/147 [==============================] - 21s 145ms/step - loss: 190.8412 - val_loss: 618.4348\n",
      "Epoch 2/100\n",
      "147/147 [==============================] - 3s 19ms/step - loss: 170312.9073 - val_loss: 788.7082\n",
      "Epoch 3/100\n",
      "147/147 [==============================] - 3s 21ms/step - loss: 182.3887 - val_loss: 590.7730\n",
      "Epoch 4/100\n",
      "147/147 [==============================] - 3s 19ms/step - loss: 249.0184 - val_loss: 537.4470\n",
      "Epoch 5/100\n",
      "147/147 [==============================] - 3s 22ms/step - loss: 281.9408 - val_loss: 777.0306\n",
      "Epoch 6/100\n",
      "147/147 [==============================] - 3s 23ms/step - loss: 180.1775 - val_loss: 519.1295\n",
      "Epoch 7/100\n",
      "147/147 [==============================] - 4s 28ms/step - loss: 180.2702 - val_loss: 614.8510\n",
      "Epoch 8/100\n",
      "147/147 [==============================] - 4s 28ms/step - loss: 191.0175 - val_loss: 601.3085\n",
      "Epoch 9/100\n",
      "147/147 [==============================] - 3s 21ms/step - loss: 179.7490 - val_loss: 557.2385\n",
      "Epoch 10/100\n",
      "147/147 [==============================] - 3s 22ms/step - loss: 170.8701 - val_loss: 511.5996\n",
      "Epoch 11/100\n",
      "147/147 [==============================] - 3s 20ms/step - loss: 181.9481 - val_loss: 763.9379\n",
      "Epoch 12/100\n",
      "147/147 [==============================] - 3s 20ms/step - loss: 197.0989 - val_loss: 885.8704\n",
      "Epoch 13/100\n",
      "147/147 [==============================] - 3s 19ms/step - loss: 204.5203 - val_loss: 549.8768\n",
      "Epoch 14/100\n",
      "147/147 [==============================] - 3s 21ms/step - loss: 182.0539 - val_loss: 649.1238\n",
      "Epoch 15/100\n",
      "147/147 [==============================] - 3s 19ms/step - loss: 186.7950 - val_loss: 779.2926\n",
      "Epoch 16/100\n",
      "147/147 [==============================] - 3s 19ms/step - loss: 186.9097 - val_loss: 791.6542\n",
      "Epoch 17/100\n",
      "147/147 [==============================] - 3s 22ms/step - loss: 185.7681 - val_loss: 753.2655\n",
      "Epoch 18/100\n",
      "147/147 [==============================] - 3s 20ms/step - loss: 193.3005 - val_loss: 596.0469\n",
      "Epoch 19/100\n",
      "147/147 [==============================] - 3s 20ms/step - loss: 189.2198 - val_loss: 807.7185\n",
      "Epoch 20/100\n",
      "147/147 [==============================] - 3s 19ms/step - loss: 202.2172 - val_loss: 853.1879\n",
      "Epoch 21/100\n",
      "147/147 [==============================] - 3s 20ms/step - loss: 191.0928 - val_loss: 751.8333\n",
      "Epoch 22/100\n",
      "147/147 [==============================] - 3s 20ms/step - loss: 180.6762 - val_loss: 612.3084\n",
      "Epoch 23/100\n",
      "147/147 [==============================] - 3s 20ms/step - loss: 183.0705 - val_loss: 793.4690\n",
      "Epoch 24/100\n",
      "147/147 [==============================] - 3s 19ms/step - loss: 182.4117 - val_loss: 709.3668\n",
      "Epoch 25/100\n",
      "147/147 [==============================] - 3s 19ms/step - loss: 182.0270 - val_loss: 637.6107\n",
      "Epoch 26/100\n",
      "147/147 [==============================] - 3s 20ms/step - loss: 176.0099 - val_loss: 698.9092\n",
      "Epoch 27/100\n",
      "147/147 [==============================] - 3s 20ms/step - loss: 180.8435 - val_loss: 802.4731\n",
      "Epoch 28/100\n",
      "147/147 [==============================] - 3s 19ms/step - loss: 174.2137 - val_loss: 778.7244\n",
      "Epoch 29/100\n",
      "147/147 [==============================] - 3s 19ms/step - loss: 167.0376 - val_loss: 531.0093\n",
      "Epoch 30/100\n",
      "147/147 [==============================] - 3s 19ms/step - loss: 192.3418 - val_loss: 658.9817\n",
      "Epoch 31/100\n",
      "147/147 [==============================] - 3s 18ms/step - loss: 213.6547 - val_loss: 522.4121\n",
      "Epoch 32/100\n",
      "147/147 [==============================] - 3s 19ms/step - loss: 192.8806 - val_loss: 522.8942\n",
      "Epoch 33/100\n",
      "147/147 [==============================] - 3s 19ms/step - loss: 173.2698 - val_loss: 741.9971\n",
      "Epoch 34/100\n",
      "147/147 [==============================] - 3s 19ms/step - loss: 167.4463 - val_loss: 401.6948\n",
      "Epoch 35/100\n",
      "147/147 [==============================] - 3s 18ms/step - loss: 224.2834 - val_loss: 667.9144\n",
      "Epoch 36/100\n",
      "147/147 [==============================] - 3s 19ms/step - loss: 166.7449 - val_loss: 369.6942\n",
      "Epoch 37/100\n",
      "147/147 [==============================] - 3s 20ms/step - loss: 148.7487 - val_loss: 424.6444\n",
      "Epoch 38/100\n",
      "147/147 [==============================] - 3s 19ms/step - loss: 136.8054 - val_loss: 9999.2217\n",
      "Epoch 39/100\n",
      "147/147 [==============================] - 3s 19ms/step - loss: 328.1148 - val_loss: 531.5327\n",
      "Epoch 40/100\n",
      "147/147 [==============================] - 3s 19ms/step - loss: 144.1862 - val_loss: 441.6795\n",
      "Epoch 41/100\n",
      "147/147 [==============================] - 3s 19ms/step - loss: 134.1592 - val_loss: 351.4338\n",
      "Epoch 42/100\n",
      "147/147 [==============================] - 3s 19ms/step - loss: 134.5450 - val_loss: 368.5039\n",
      "Epoch 43/100\n",
      "147/147 [==============================] - 3s 18ms/step - loss: 125.1479 - val_loss: 297.4763\n",
      "Epoch 44/100\n",
      "147/147 [==============================] - 3s 19ms/step - loss: 385659.4404 - val_loss: 861.6650\n",
      "Epoch 45/100\n",
      "147/147 [==============================] - 3s 18ms/step - loss: 13841.3723 - val_loss: 806.6887\n",
      "Epoch 46/100\n",
      "147/147 [==============================] - 3s 19ms/step - loss: 955.6804 - val_loss: 604.4147\n",
      "Epoch 47/100\n",
      "147/147 [==============================] - 3s 18ms/step - loss: 1150.1001 - val_loss: 745.2102\n",
      "Epoch 48/100\n",
      "147/147 [==============================] - 3s 19ms/step - loss: 1274710.0699 - val_loss: 757.0409\n",
      "Epoch 49/100\n",
      "147/147 [==============================] - 3s 19ms/step - loss: 190.1577 - val_loss: 1163.1758\n",
      "Epoch 50/100\n",
      "147/147 [==============================] - 3s 19ms/step - loss: 278.2541 - val_loss: 687.6830\n",
      "Epoch 51/100\n",
      "147/147 [==============================] - 3s 17ms/step - loss: 222.4493 - val_loss: 730.7755\n",
      "Epoch 52/100\n",
      "147/147 [==============================] - 3s 18ms/step - loss: 263.9137 - val_loss: 721.0905\n",
      "Epoch 53/100\n",
      "147/147 [==============================] - 3s 20ms/step - loss: 218.8595 - val_loss: 869.1791\n",
      "Epoch 54/100\n",
      "147/147 [==============================] - 3s 19ms/step - loss: 210.1925 - val_loss: 665.4772\n",
      "Epoch 55/100\n",
      "147/147 [==============================] - 3s 19ms/step - loss: 225.9287 - val_loss: 699.7371\n",
      "Epoch 56/100\n",
      "147/147 [==============================] - 3s 20ms/step - loss: 2007.7661 - val_loss: 666.8451\n",
      "Epoch 57/100\n",
      "147/147 [==============================] - 3s 18ms/step - loss: 239.9235 - val_loss: 570.6002\n",
      "Epoch 58/100\n",
      "147/147 [==============================] - 3s 19ms/step - loss: 184.0262 - val_loss: 759.9175\n",
      "Epoch 59/100\n",
      "147/147 [==============================] - 3s 19ms/step - loss: 206.1234 - val_loss: 692.9949\n",
      "Epoch 60/100\n",
      "147/147 [==============================] - 3s 19ms/step - loss: 184.8202 - val_loss: 691.3127\n",
      "Epoch 61/100\n",
      "147/147 [==============================] - 3s 19ms/step - loss: 176.6343 - val_loss: 575.1007\n",
      "Epoch 62/100\n",
      "147/147 [==============================] - 3s 18ms/step - loss: 189.4187 - val_loss: 476.6990\n",
      "Epoch 63/100\n",
      "147/147 [==============================] - 3s 18ms/step - loss: 252.6642 - val_loss: 714.3274\n",
      "Epoch 64/100\n",
      "147/147 [==============================] - 3s 19ms/step - loss: 167.7507 - val_loss: 498.7291\n",
      "Epoch 65/100\n",
      "147/147 [==============================] - 3s 18ms/step - loss: 344.1298 - val_loss: 621.2560\n",
      "Epoch 66/100\n",
      "147/147 [==============================] - 3s 19ms/step - loss: 199.6798 - val_loss: 633.5289\n",
      "Epoch 67/100\n",
      "147/147 [==============================] - 3s 20ms/step - loss: 173.7702 - val_loss: 385.5940\n",
      "Epoch 68/100\n",
      "147/147 [==============================] - 3s 21ms/step - loss: 200.6518 - val_loss: 332.4176\n",
      "Epoch 69/100\n",
      "147/147 [==============================] - 3s 19ms/step - loss: 207.4762 - val_loss: 682.2699\n",
      "Epoch 70/100\n",
      "147/147 [==============================] - 3s 22ms/step - loss: 196.3002 - val_loss: 379.4579\n",
      "Epoch 71/100\n",
      "147/147 [==============================] - 3s 18ms/step - loss: 193.1714 - val_loss: 375.1637\n",
      "Epoch 72/100\n",
      "147/147 [==============================] - 3s 19ms/step - loss: 258.2774 - val_loss: 395.0643\n",
      "Epoch 73/100\n",
      "147/147 [==============================] - 3s 19ms/step - loss: 187.2023 - val_loss: 494.6719\n",
      "Epoch 74/100\n",
      "147/147 [==============================] - 3s 18ms/step - loss: 170.0082 - val_loss: 599.0945\n",
      "Epoch 75/100\n",
      "147/147 [==============================] - 3s 19ms/step - loss: 238.4366 - val_loss: 471.5883\n",
      "Epoch 76/100\n",
      "147/147 [==============================] - 3s 20ms/step - loss: 217.9705 - val_loss: 608.5312\n",
      "Epoch 77/100\n"
     ]
    },
    {
     "name": "stdout",
     "output_type": "stream",
     "text": [
      "147/147 [==============================] - 3s 20ms/step - loss: 186.6258 - val_loss: 582.1234\n",
      "Epoch 78/100\n",
      "147/147 [==============================] - 3s 18ms/step - loss: 183.1473 - val_loss: 545.8018\n",
      "Epoch 79/100\n",
      "147/147 [==============================] - 3s 19ms/step - loss: 180.1681 - val_loss: 262.3935\n",
      "Epoch 80/100\n",
      "147/147 [==============================] - 3s 19ms/step - loss: 201.9615 - val_loss: 421.7092\n",
      "Epoch 81/100\n",
      "147/147 [==============================] - 3s 19ms/step - loss: 187.3061 - val_loss: 561.8220\n",
      "Epoch 82/100\n",
      "147/147 [==============================] - 3s 19ms/step - loss: 169.4226 - val_loss: 620.3518\n",
      "Epoch 83/100\n",
      "147/147 [==============================] - 3s 18ms/step - loss: 157.1395 - val_loss: 553.9309\n",
      "Epoch 84/100\n",
      "147/147 [==============================] - 3s 20ms/step - loss: 172.8660 - val_loss: 352.3846\n",
      "Epoch 85/100\n",
      "147/147 [==============================] - 3s 17ms/step - loss: 197.3232 - val_loss: 465.9031\n",
      "Epoch 86/100\n",
      "147/147 [==============================] - 3s 19ms/step - loss: 173.4214 - val_loss: 782.6741\n",
      "Epoch 87/100\n",
      "147/147 [==============================] - 3s 19ms/step - loss: 164.8114 - val_loss: 7064.2910\n",
      "Epoch 88/100\n",
      "147/147 [==============================] - 3s 19ms/step - loss: 195.3885 - val_loss: 348.0124\n",
      "Epoch 89/100\n",
      "147/147 [==============================] - 3s 19ms/step - loss: 174.4350 - val_loss: 266.4444\n",
      "Epoch 90/100\n",
      "147/147 [==============================] - 3s 18ms/step - loss: 201.2169 - val_loss: 425.7088\n",
      "Epoch 91/100\n",
      "147/147 [==============================] - 3s 19ms/step - loss: 201.2991 - val_loss: 1392.9873\n",
      "Epoch 92/100\n",
      "147/147 [==============================] - 4s 24ms/step - loss: 179.0309 - val_loss: 554.3231\n",
      "Epoch 93/100\n",
      "147/147 [==============================] - 3s 23ms/step - loss: 322.4176 - val_loss: 625.7991\n",
      "Epoch 94/100\n",
      "147/147 [==============================] - 3s 19ms/step - loss: 195.2493 - val_loss: 601.3300\n",
      "Epoch 95/100\n",
      "147/147 [==============================] - 3s 20ms/step - loss: 174.3934 - val_loss: 312.5815\n",
      "Epoch 96/100\n",
      "147/147 [==============================] - 3s 20ms/step - loss: 198.3692 - val_loss: 639.0409\n",
      "Epoch 97/100\n",
      "147/147 [==============================] - 3s 20ms/step - loss: 147.2876 - val_loss: 690.3041\n",
      "Epoch 98/100\n",
      "147/147 [==============================] - 3s 21ms/step - loss: 169.3985 - val_loss: 180.8982\n",
      "Epoch 99/100\n",
      "147/147 [==============================] - 3s 18ms/step - loss: 178.5412 - val_loss: 714.6937\n",
      "Epoch 100/100\n",
      "147/147 [==============================] - 3s 21ms/step - loss: 194.3726 - val_loss: 504.5090\n"
     ]
    }
   ],
   "source": [
    "model = build_model(train, n_input, dias)"
   ]
  },
  {
   "cell_type": "code",
   "execution_count": 442,
   "metadata": {
    "collapsed": true
   },
   "outputs": [],
   "source": [
    "pred = predizer(train, test, n_input, dias, model)"
   ]
  },
  {
   "cell_type": "code",
   "execution_count": 443,
   "metadata": {},
   "outputs": [
    {
     "data": {
      "image/png": "[encoded data removed]",
      "text/plain": [
       "<Figure size 720x576 with 1 Axes>"
      ]
     },
     "metadata": {},
     "output_type": "display_data"
    }
   ],
   "source": [
    "import matplotlib.pyplot as plt\n",
    "plt.figure(figsize=(10,8))\n",
    "plt.plot(test.flatten(), label = 'real')\n",
    "plt.plot(pred.flatten(), label = 'predito')\n",
    "plt.legend()\n",
    "plt.show()"
   ]
  },
  {
   "cell_type": "code",
   "execution_count": 444,
   "metadata": {
    "collapsed": true
   },
   "outputs": [],
   "source": [
    "pred = predizer(train, train, n_input, dias, model)"
   ]
  },
  {
   "cell_type": "code",
   "execution_count": 449,
   "metadata": {},
   "outputs": [
    {
     "data": {
      "text/plain": [
       "(229, 20)"
      ]
     },
     "execution_count": 449,
     "metadata": {},
     "output_type": "execute_result"
    }
   ],
   "source": [
    "train.shape"
   ]
  },
  {
   "cell_type": "code",
   "execution_count": 450,
   "metadata": {},
   "outputs": [
    {
     "data": {
      "image/png": "[encoded data removed]",
      "text/plain": [
       "<Figure size 720x576 with 1 Axes>"
      ]
     },
     "metadata": {},
     "output_type": "display_data"
    }
   ],
   "source": [
    "import matplotlib.pyplot as plt\n",
    "plt.figure(figsize=(10,8))\n",
    "plt.plot(train.flatten(), label = 'real')\n",
    "plt.plot(pred.flatten(), label = 'predito')\n",
    "plt.legend()\n",
    "plt.show()"
   ]
  },
  {
   "cell_type": "code",
   "execution_count": null,
   "metadata": {
    "collapsed": true
   },
   "outputs": [],
   "source": []
  }
 ],
 "metadata": {
  "kernelspec": {
   "display_name": "Python 3",
   "language": "python",
   "name": "python3"
  },
  "language_info": {
   "codemirror_mode": {
    "name": "ipython",
    "version": 3
   },
   "file_extension": ".py",
   "mimetype": "text/x-python",
   "name": "python",
   "nbconvert_exporter": "python",
   "pygments_lexer": "ipython3",
   "version": "3.6.5"
  }
 },
 "nbformat": 4,
 "nbformat_minor": 2
}
