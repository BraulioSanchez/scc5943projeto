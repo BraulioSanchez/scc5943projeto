{
 "cells": [
  {
   "cell_type": "code",
   "execution_count": 2,
   "metadata": {},
   "outputs": [
    {
     "name": "stderr",
     "output_type": "stream",
     "text": [
      "Using TensorFlow backend.\n"
     ]
    }
   ],
   "source": [
    "import os\n",
    "import json\n",
    "import time\n",
    "import numpy as np\n",
    "import matplotlib.pyplot as plt\n",
    "%matplotlib qt\n",
    "\n",
    "from get_data import GetData\n",
    "from data_loader import DataLoader\n",
    "from pre_processing import PreProcessing\n",
    "\n",
    "from keras.models import Sequential\n",
    "from keras.layers import LSTM, Dense, RepeatVector, TimeDistributed\n",
    "\n",
    "import tensorflow as tf\n",
    "tf.logging.set_verbosity(tf.logging.ERROR)"
   ]
  },
  {
   "cell_type": "code",
   "execution_count": 3,
   "metadata": {},
   "outputs": [
    {
     "data": {
      "text/plain": [
       "{'data': {'symbol': 'AMZN',\n",
       "  'columns': ['Close'],\n",
       "  'start': '2008-04-01',\n",
       "  'end': '2019-10-01',\n",
       "  'sequence_length': 5,\n",
       "  'train_test_split': 0.85,\n",
       "  'save_dir': 'data',\n",
       "  'correlates_to': ['NOV',\n",
       "   'EQIX',\n",
       "   'CTAS',\n",
       "   'CRM',\n",
       "   'BSX',\n",
       "   'IT',\n",
       "   'V',\n",
       "   'MSI',\n",
       "   'CLX',\n",
       "   'WAT']},\n",
       " 'preprocessing': {'denoise': {'wavelet': 'haar', 'thr_mode': 'garotte'},\n",
       "  'filename': 'preprocessed.csv',\n",
       "  'save_dir': 'preprocessing'},\n",
       " 'training': {'epochs': 2, 'batch_size': 32},\n",
       " 'model': {'loss': 'mae',\n",
       "  'optimizer': 'adam',\n",
       "  'save_dir': 'model',\n",
       "  'layers': [{'type': 'lstm',\n",
       "    'neurons': 100,\n",
       "    'activation': 'relu',\n",
       "    'input_timesteps': 4,\n",
       "    'input_dim': 1,\n",
       "    'return_sequences': False},\n",
       "   {'type': 'repeat_vector', 'output_shape': 1},\n",
       "   {'type': 'lstm',\n",
       "    'neurons': 100,\n",
       "    'activation': 'relu',\n",
       "    'return_sequences': True},\n",
       "   {'type': 'time_distributed', 'layer': {'type': 'dense', 'neurons': 1}}]}}"
      ]
     },
     "execution_count": 3,
     "metadata": {},
     "output_type": "execute_result"
    }
   ],
   "source": [
    "configs = json.load(open('config-test.json', 'r'))\n",
    "configs"
   ]
  },
  {
   "cell_type": "code",
   "execution_count": 4,
   "metadata": {
    "scrolled": true
   },
   "outputs": [],
   "source": [
    "dataloader = DataLoader(os.path.join(configs['data']['save_dir'], configs['data']['symbol'] + '.csv'),\n",
    "                    configs['data']['train_test_split'],\n",
    "                    configs['data']['columns'])"
   ]
  },
  {
   "cell_type": "code",
   "execution_count": 5,
   "metadata": {},
   "outputs": [
    {
     "data": {
      "text/plain": [
       "(1, 2818, 1)"
      ]
     },
     "execution_count": 5,
     "metadata": {},
     "output_type": "execute_result"
    }
   ],
   "source": [
    "n_in = len(dataloader.data)\n",
    "sequence_in = dataloader.data.reshape((1, n_in, 1))\n",
    "sequence_in.shape"
   ]
  },
  {
   "cell_type": "code",
   "execution_count": 6,
   "metadata": {},
   "outputs": [
    {
     "name": "stdout",
     "output_type": "stream",
     "text": [
      "_________________________________________________________________\n",
      "Layer (type)                 Output Shape              Param #   \n",
      "=================================================================\n",
      "lstm_1 (LSTM)                (None, 100)               40800     \n",
      "_________________________________________________________________\n",
      "repeat_vector_1 (RepeatVecto (None, 2815, 100)         0         \n",
      "_________________________________________________________________\n",
      "lstm_2 (LSTM)                (None, 2815, 100)         80400     \n",
      "_________________________________________________________________\n",
      "time_distributed_1 (TimeDist (None, 2815, 1)           101       \n",
      "=================================================================\n",
      "Total params: 121,301\n",
      "Trainable params: 121,301\n",
      "Non-trainable params: 0\n",
      "_________________________________________________________________\n"
     ]
    }
   ],
   "source": [
    "# LSTM Autoencoder for reconstruct\n",
    "timestemps = sequence_in.shape[1]\n",
    "n_features = sequence_in.shape[2]\n",
    "\n",
    "model = Sequential()\n",
    "model.add(LSTM(128, activation='relu', input_shape=(timestemps, n_features), return_sequences=True))\n",
    "model.add(LSTM(64, activation='relu', return_sequences=False))\n",
    "model.add(RepeatVector(timestemps))\n",
    "model.add(LSTM(64, activation='relu', return_sequences=True))\n",
    "model.add(LSTM(128, activation='relu', return_sequences=True))\n",
    "model.add(TimeDistributed(Dense(n_features)))\n",
    "\n",
    "'''model.add(LSTM(100, activation='relu', input_shape=(n_in,1)))\n",
    "model.add(RepeatVector(n_in))\n",
    "model.add(LSTM(100, activation='relu', return_sequences=True))\n",
    "model.add(TimeDistributed(Dense(1)))\n",
    "'''\n",
    "model.compile(optimizer='adam', loss='mse')\n",
    "model.summary()"
   ]
  },
  {
   "cell_type": "code",
   "execution_count": 7,
   "metadata": {
    "scrolled": true
   },
   "outputs": [
    {
     "name": "stdout",
     "output_type": "stream",
     "text": [
      "Epoch 1/50\n",
      "1/1 [==============================] - 4s 4s/step - loss: nan\n",
      "Epoch 2/50\n",
      "1/1 [==============================] - 3s 3s/step - loss: nan\n",
      "Epoch 3/50\n",
      "1/1 [==============================] - 3s 3s/step - loss: nan\n",
      "Epoch 4/50\n",
      "1/1 [==============================] - 3s 3s/step - loss: nan\n",
      "Epoch 5/50\n",
      "1/1 [==============================] - 3s 3s/step - loss: nan\n",
      "Epoch 6/50\n",
      "1/1 [==============================] - 3s 3s/step - loss: nan\n",
      "Epoch 7/50\n",
      "1/1 [==============================] - 3s 3s/step - loss: nan\n",
      "Epoch 8/50\n",
      "1/1 [==============================] - 3s 3s/step - loss: nan\n",
      "Epoch 9/50\n",
      "1/1 [==============================] - 3s 3s/step - loss: nan\n",
      "Epoch 10/50\n",
      "1/1 [==============================] - 3s 3s/step - loss: nan\n",
      "Epoch 11/50\n",
      "1/1 [==============================] - 3s 3s/step - loss: nan\n",
      "Epoch 12/50\n",
      "1/1 [==============================] - 3s 3s/step - loss: nan\n",
      "Epoch 13/50\n",
      "1/1 [==============================] - 3s 3s/step - loss: nan\n",
      "Epoch 14/50\n",
      "1/1 [==============================] - 3s 3s/step - loss: nan\n",
      "Epoch 15/50\n",
      "1/1 [==============================] - 3s 3s/step - loss: nan\n",
      "Epoch 16/50\n",
      "1/1 [==============================] - 3s 3s/step - loss: nan\n",
      "Epoch 17/50\n",
      "1/1 [==============================] - 3s 3s/step - loss: nan\n",
      "Epoch 18/50\n",
      "1/1 [==============================] - 3s 3s/step - loss: nan\n",
      "Epoch 19/50\n",
      "1/1 [==============================] - 3s 3s/step - loss: nan\n",
      "Epoch 20/50\n",
      "1/1 [==============================] - 3s 3s/step - loss: nan\n",
      "Epoch 21/50\n",
      "1/1 [==============================] - 3s 3s/step - loss: nan\n",
      "Epoch 22/50\n",
      "1/1 [==============================] - 3s 3s/step - loss: nan\n",
      "Epoch 23/50\n",
      "1/1 [==============================] - 3s 3s/step - loss: nan\n",
      "Epoch 24/50\n",
      "1/1 [==============================] - 3s 3s/step - loss: nan\n",
      "Epoch 25/50\n",
      "1/1 [==============================] - 3s 3s/step - loss: nan\n",
      "Epoch 26/50\n",
      "1/1 [==============================] - 3s 3s/step - loss: nan\n",
      "Epoch 27/50\n",
      "1/1 [==============================] - 3s 3s/step - loss: nan\n",
      "Epoch 28/50\n",
      "1/1 [==============================] - 3s 3s/step - loss: nan\n",
      "Epoch 29/50\n",
      "1/1 [==============================] - 3s 3s/step - loss: nan\n",
      "Epoch 30/50\n",
      "1/1 [==============================] - 3s 3s/step - loss: nan\n",
      "Epoch 31/50\n",
      "1/1 [==============================] - 3s 3s/step - loss: nan\n",
      "Epoch 32/50\n",
      "1/1 [==============================] - 3s 3s/step - loss: nan\n",
      "Epoch 33/50\n",
      "1/1 [==============================] - 3s 3s/step - loss: nan\n",
      "Epoch 34/50\n",
      "1/1 [==============================] - 3s 3s/step - loss: nan\n",
      "Epoch 35/50\n",
      "1/1 [==============================] - 3s 3s/step - loss: nan\n",
      "Epoch 36/50\n",
      "1/1 [==============================] - 3s 3s/step - loss: nan\n",
      "Epoch 37/50\n",
      "1/1 [==============================] - 3s 3s/step - loss: nan\n",
      "Epoch 38/50\n",
      "1/1 [==============================] - 3s 3s/step - loss: nan\n",
      "Epoch 39/50\n",
      "1/1 [==============================] - 3s 3s/step - loss: nan\n",
      "Epoch 40/50\n",
      "1/1 [==============================] - 3s 3s/step - loss: nan\n",
      "Epoch 41/50\n",
      "1/1 [==============================] - 3s 3s/step - loss: nan\n",
      "Epoch 42/50\n",
      "1/1 [==============================] - 3s 3s/step - loss: nan\n",
      "Epoch 43/50\n",
      "1/1 [==============================] - 3s 3s/step - loss: nan\n",
      "Epoch 44/50\n",
      "1/1 [==============================] - 3s 3s/step - loss: nan\n",
      "Epoch 45/50\n",
      "1/1 [==============================] - 3s 3s/step - loss: nan\n",
      "Epoch 46/50\n",
      "1/1 [==============================] - 3s 3s/step - loss: nan\n",
      "Epoch 47/50\n",
      "1/1 [==============================] - 3s 3s/step - loss: nan\n",
      "Epoch 48/50\n",
      "1/1 [==============================] - 3s 3s/step - loss: nan\n",
      "Epoch 49/50\n",
      "1/1 [==============================] - 3s 3s/step - loss: nan\n",
      "Epoch 50/50\n",
      "1/1 [==============================] - 3s 3s/step - loss: nan\n"
     ]
    },
    {
     "data": {
      "text/plain": [
       "<keras.callbacks.History at 0x7f0d506d2cf8>"
      ]
     },
     "execution_count": 7,
     "metadata": {},
     "output_type": "execute_result"
    }
   ],
   "source": [
    "# fit model\n",
    "model.fit(sequence_in, sequence_in, epochs=50, verbose=1)"
   ]
  },
  {
   "cell_type": "code",
   "execution_count": null,
   "metadata": {},
   "outputs": [],
   "source": [
    "# load the model"
   ]
  },
  {
   "cell_type": "code",
   "execution_count": 11,
   "metadata": {},
   "outputs": [],
   "source": [
    "yhat = model.predict(sequence_in, verbose=0)"
   ]
  },
  {
   "cell_type": "code",
   "execution_count": 13,
   "metadata": {
    "scrolled": true
   },
   "outputs": [
    {
     "name": "stdout",
     "output_type": "stream",
     "text": [
      "76.699997\n",
      "[76.699997 77.370003 74.940002 76.870003 76.900002 77.300003 74.389999\n",
      " 74.830002]\n",
      "nan\n",
      "[nan nan nan nan nan nan nan nan]\n"
     ]
    }
   ],
   "source": [
    "print(sequence_in[0,0,0])\n",
    "print(np.reshape(sequence_in, (sequence_in.size,))[:8])\n",
    "print(yhat[0,0,0])\n",
    "print(np.reshape(yhat, (yhat.size,))[:8])"
   ]
  },
  {
   "cell_type": "code",
   "execution_count": 31,
   "metadata": {},
   "outputs": [],
   "source": [
    "fig = plt.figure(facecolor='white')\n",
    "ax = fig.add_subplot(111)\n",
    "ax.plot(np.reshape(X_train, (X_train.size,)), label='True Data')\n",
    "plt.plot(np.reshape(yhat, (yhat.size,)), label='Prediction')\n",
    "plt.legend()\n",
    "plt.show()"
   ]
  },
  {
   "cell_type": "code",
   "execution_count": null,
   "metadata": {},
   "outputs": [],
   "source": []
  }
 ],
 "metadata": {
  "kernelspec": {
   "display_name": "Python 3",
   "language": "python",
   "name": "python3"
  },
  "language_info": {
   "codemirror_mode": {
    "name": "ipython",
    "version": 3
   },
   "file_extension": ".py",
   "mimetype": "text/x-python",
   "name": "python",
   "nbconvert_exporter": "python",
   "pygments_lexer": "ipython3",
   "version": "3.7.0"
  }
 },
 "nbformat": 4,
 "nbformat_minor": 2
}
