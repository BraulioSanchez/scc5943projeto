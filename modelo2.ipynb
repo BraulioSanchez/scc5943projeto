{
 "cells": [
  {
   "cell_type": "code",
   "execution_count": 137,
   "metadata": {},
   "outputs": [],
   "source": [
    "# univariate multi-step encoder-decoder lstm\n",
    "from math import sqrt\n",
    "from numpy import split\n",
    "from numpy import array\n",
    "from pandas import read_csv\n",
    "from sklearn.metrics import mean_squared_error\n",
    "from matplotlib import pyplot\n",
    "from keras.models import Sequential\n",
    "from keras.layers import Dense\n",
    "from keras.layers import Flatten\n",
    "from keras.layers import LSTM\n",
    "from keras.layers import RepeatVector\n",
    "from keras.layers import TimeDistributed\n",
    "import keras\n",
    "from keras.layers import Dropout\n",
    "\n",
    "def split_dataset(data, dias, lim_treino):\n",
    "    train, test = data[:lim_treino], data[lim_treino:]\n",
    "    train = array(split(train, len(train)/dias))\n",
    "    test = array(split(test, len(test)/dias))\n",
    "    return train, test\n",
    "\n",
    "# convert history into inputs and outputs\n",
    "def to_supervised(train, n_input, n_out):\n",
    "    data = train#.reshape((train.shape[0]*train.shape[1], train.shape[2]))\n",
    "    X, y = list(), list()\n",
    "    in_start = 0\n",
    "    for _ in range(len(data)):\n",
    "        in_end = in_start + n_input\n",
    "        out_end = in_end + n_out\n",
    "        if out_end < len(data):\n",
    "            x_input = data[in_start:in_end, 0]\n",
    "            x_input = x_input.reshape((len(x_input), 1))\n",
    "            X.append(x_input)\n",
    "            y.append(data[in_end:out_end, 0])\n",
    "        in_start += 1 #movimento pra criacao de outputs\n",
    "    return array(X), array(y)\n",
    "\n",
    "def build_model(train, n_input, dias):\n",
    "    train_x, train_y = to_supervised(train, n_input, dias)\n",
    "    \n",
    "    verbose, epochs, batch_size = 1, 20, 8\n",
    "    n_timesteps, n_features, n_outputs = train_x.shape[1], train_x.shape[2], train_y.shape[1]\n",
    "    train_y = train_y.reshape((train_y.shape[0], train_y.shape[1], 1))\n",
    "    \n",
    "    model = Sequential()\n",
    "    model.add(LSTM(64, activation='relu', input_shape=(n_timesteps, n_features), return_sequences=True))\n",
    "    model.add(LSTM(16, activation='relu',return_sequences=False))\n",
    "    model.add(RepeatVector(n_outputs))\n",
    "    model.add(LSTM(16, activation='relu', return_sequences=True))\n",
    "    model.add(LSTM(64, activation='relu', return_sequences=True))\n",
    "    model.add(TimeDistributed(Dense(32, activation='relu')))\n",
    "    model.add(Dropout(0.5))\n",
    "    model.add(TimeDistributed(Dense(1)))\n",
    "    otimizador = keras.optimizers.Adam(lr=0.002, beta_1=0.9, beta_2=0.999, epsilon=None, decay=0.0, amsgrad=False)\n",
    "    model.compile(loss='mae', optimizer=otimizador)\n",
    "\n",
    "    model.fit(train_x, train_y, epochs=epochs, batch_size=batch_size, verbose=verbose)\n",
    "    model.save('resultado.h5')\n",
    "    return model\n",
    "\n",
    "# make a forecast\n",
    "def forecast(model, history, n_input):\n",
    "    data = array(history)\n",
    "    #data = data.reshape((data.shape[0]*data.shape[1], data.shape[2])) #\n",
    "    input_x = data[-n_input:, 0] #ultimas informacoes pra entrada\n",
    "    input_x = input_x.reshape((1, len(input_x), 1))\n",
    "    yhat = model.predict(input_x, verbose=0)\n",
    "    yhat = yhat[0]\n",
    "    return yhat"
   ]
  },
  {
   "cell_type": "code",
   "execution_count": 138,
   "metadata": {},
   "outputs": [],
   "source": [
    "# evaluate a single model\n",
    "def predizer(train, test, n_input, dias, model):\n",
    "    history = [x for x in train]\n",
    "    predictions = list()\n",
    "    for i in range(len(test)):\n",
    "        yhat_sequence = forecast(model, history, n_input)\n",
    "        predictions.append(yhat_sequence)\n",
    "        history.append(test[i])\n",
    "    return array(predictions)"
   ]
  },
  {
   "cell_type": "markdown",
   "metadata": {},
   "source": [
    "#### Analise de previsao de 5 dias"
   ]
  },
  {
   "cell_type": "code",
   "execution_count": 139,
   "metadata": {
    "collapsed": true
   },
   "outputs": [],
   "source": [
    "dias = 5\n",
    "n_input = 20\n",
    "amostras = 4800\n",
    "lim_treino = amostras - dias"
   ]
  },
  {
   "cell_type": "code",
   "execution_count": 140,
   "metadata": {
    "collapsed": true
   },
   "outputs": [],
   "source": [
    "df = read_csv('/Users/Anderson/Documents/aprendizado/final/scc5943projeto/preprocessing/denoised-series.csv')"
   ]
  },
  {
   "cell_type": "code",
   "execution_count": 141,
   "metadata": {
    "collapsed": true
   },
   "outputs": [],
   "source": [
    "df = df.iloc[:amostras]"
   ]
  },
  {
   "cell_type": "code",
   "execution_count": 142,
   "metadata": {
    "collapsed": true
   },
   "outputs": [],
   "source": [
    "dataset = df['denoised']"
   ]
  },
  {
   "cell_type": "code",
   "execution_count": 143,
   "metadata": {
    "collapsed": true
   },
   "outputs": [],
   "source": [
    "train, test = split_dataset(dataset.values, dias, lim_treino)"
   ]
  },
  {
   "cell_type": "code",
   "execution_count": 144,
   "metadata": {},
   "outputs": [
    {
     "name": "stdout",
     "output_type": "stream",
     "text": [
      "Epoch 1/20\n",
      "934/934 [==============================] - 12s 13ms/step - loss: 212.7121\n",
      "Epoch 2/20\n",
      "934/934 [==============================] - 5s 5ms/step - loss: 137.2845\n",
      "Epoch 3/20\n",
      "934/934 [==============================] - 5s 6ms/step - loss: 63.4171\n",
      "Epoch 4/20\n",
      "934/934 [==============================] - 5s 5ms/step - loss: 60.1460\n",
      "Epoch 5/20\n",
      "934/934 [==============================] - 5s 5ms/step - loss: 59.8020\n",
      "Epoch 6/20\n",
      "934/934 [==============================] - 5s 5ms/step - loss: 58.2790\n",
      "Epoch 7/20\n",
      "934/934 [==============================] - 5s 6ms/step - loss: 60.4624\n",
      "Epoch 8/20\n",
      "934/934 [==============================] - 5s 5ms/step - loss: 56.7210\n",
      "Epoch 9/20\n",
      "934/934 [==============================] - 5s 6ms/step - loss: 56.8829\n",
      "Epoch 10/20\n",
      "934/934 [==============================] - 5s 6ms/step - loss: 59.7046\n",
      "Epoch 11/20\n",
      "934/934 [==============================] - 5s 5ms/step - loss: 55.4482\n",
      "Epoch 12/20\n",
      "934/934 [==============================] - 5s 5ms/step - loss: 57.6009\n",
      "Epoch 13/20\n",
      "934/934 [==============================] - 5s 6ms/step - loss: 56.8580\n",
      "Epoch 14/20\n",
      "934/934 [==============================] - 5s 6ms/step - loss: 55.7482\n",
      "Epoch 15/20\n",
      "934/934 [==============================] - 5s 5ms/step - loss: 56.7295\n",
      "Epoch 16/20\n",
      "934/934 [==============================] - 5s 6ms/step - loss: 56.0482\n",
      "Epoch 17/20\n",
      "934/934 [==============================] - 5s 5ms/step - loss: 57.4783\n",
      "Epoch 18/20\n",
      "934/934 [==============================] - 6s 6ms/step - loss: 55.8474\n",
      "Epoch 19/20\n",
      "934/934 [==============================] - 5s 6ms/step - loss: 58.8723\n",
      "Epoch 20/20\n",
      "934/934 [==============================] - 5s 6ms/step - loss: 59.2748\n"
     ]
    }
   ],
   "source": [
    "model = build_model(train, n_input, dias)"
   ]
  },
  {
   "cell_type": "code",
   "execution_count": 145,
   "metadata": {},
   "outputs": [],
   "source": [
    "pred = predizer(train, test, n_input, dias, model)"
   ]
  },
  {
   "cell_type": "code",
   "execution_count": 146,
   "metadata": {},
   "outputs": [
    {
     "data": {
      "image/png": "[encoded data removed]",
      "text/plain": [
       "<Figure size 720x576 with 1 Axes>"
      ]
     },
     "metadata": {},
     "output_type": "display_data"
    }
   ],
   "source": [
    "import matplotlib.pyplot as plt\n",
    "plt.figure(figsize=(10,8))\n",
    "plt.plot(test.flatten(), label = 'real')\n",
    "plt.plot(pred.flatten(), label = 'predito')\n",
    "plt.legend()\n",
    "plt.show()"
   ]
  },
  {
   "cell_type": "code",
   "execution_count": 147,
   "metadata": {
    "collapsed": true
   },
   "outputs": [],
   "source": [
    "dias = 5\n",
    "n_input = 20\n",
    "amostras = 4860\n",
    "lim_treino = amostras - dias"
   ]
  },
  {
   "cell_type": "code",
   "execution_count": 148,
   "metadata": {
    "collapsed": true
   },
   "outputs": [],
   "source": [
    "df = read_csv('/Users/Anderson/Documents/aprendizado/final/scc5943projeto/preprocessing/denoised-series.csv')\n",
    "df = df.iloc[:amostras]\n",
    "dataset = df['denoised']"
   ]
  },
  {
   "cell_type": "code",
   "execution_count": 149,
   "metadata": {},
   "outputs": [],
   "source": [
    "train, test = split_dataset(dataset.values, dias, lim_treino)"
   ]
  },
  {
   "cell_type": "code",
   "execution_count": 150,
   "metadata": {},
   "outputs": [],
   "source": [
    "pred = predizer(train, test, n_input, dias, model)"
   ]
  },
  {
   "cell_type": "code",
   "execution_count": 151,
   "metadata": {},
   "outputs": [
    {
     "data": {
      "image/png": "[encoded data removed]",
      "text/plain": [
       "<Figure size 720x576 with 1 Axes>"
      ]
     },
     "metadata": {},
     "output_type": "display_data"
    }
   ],
   "source": [
    "import matplotlib.pyplot as plt\n",
    "plt.figure(figsize=(10,8))\n",
    "plt.plot(test.flatten(), label = 'real')\n",
    "plt.plot(pred.flatten(), label = 'predito')\n",
    "plt.legend()\n",
    "plt.show()"
   ]
  },
  {
   "cell_type": "markdown",
   "metadata": {
    "collapsed": true
   },
   "source": [
    "#### Analise de previsao de 10 dias"
   ]
  },
  {
   "cell_type": "code",
   "execution_count": 152,
   "metadata": {
    "collapsed": true
   },
   "outputs": [],
   "source": [
    "dias = 10\n",
    "n_input = 60\n",
    "amostras = 4800\n",
    "lim_treino = amostras - dias"
   ]
  },
  {
   "cell_type": "code",
   "execution_count": 153,
   "metadata": {
    "collapsed": true
   },
   "outputs": [],
   "source": [
    "df = read_csv('/Users/Anderson/Documents/aprendizado/final/scc5943projeto/preprocessing/denoised-series.csv')\n",
    "\n",
    "df = df.iloc[:amostras]\n",
    "\n",
    "dataset = df['denoised']\n",
    "\n",
    "train, test = split_dataset(dataset.values, dias, lim_treino)"
   ]
  },
  {
   "cell_type": "code",
   "execution_count": 154,
   "metadata": {
    "collapsed": true
   },
   "outputs": [],
   "source": [
    "train, test = split_dataset(dataset.values, dias, lim_treino)"
   ]
  },
  {
   "cell_type": "code",
   "execution_count": 155,
   "metadata": {},
   "outputs": [
    {
     "name": "stdout",
     "output_type": "stream",
     "text": [
      "Epoch 1/20\n",
      "409/409 [==============================] - 16s 38ms/step - loss: 300.0247\n",
      "Epoch 2/20\n",
      "409/409 [==============================] - 7s 17ms/step - loss: 298.8316\n",
      "Epoch 3/20\n",
      "409/409 [==============================] - 6s 16ms/step - loss: 214.4727\n",
      "Epoch 4/20\n",
      "409/409 [==============================] - 6s 16ms/step - loss: 216.1620\n",
      "Epoch 5/20\n",
      "409/409 [==============================] - 7s 16ms/step - loss: 182.3454\n",
      "Epoch 6/20\n",
      "409/409 [==============================] - 6s 16ms/step - loss: 152.6239\n",
      "Epoch 7/20\n",
      "409/409 [==============================] - 6s 16ms/step - loss: 141.9123\n",
      "Epoch 8/20\n",
      "409/409 [==============================] - 6s 16ms/step - loss: 129.7103\n",
      "Epoch 9/20\n",
      "409/409 [==============================] - 7s 16ms/step - loss: 123.6732\n",
      "Epoch 10/20\n",
      "409/409 [==============================] - 6s 16ms/step - loss: 114.5575\n",
      "Epoch 11/20\n",
      "409/409 [==============================] - 7s 16ms/step - loss: 104.0155\n",
      "Epoch 12/20\n",
      "409/409 [==============================] - 6s 16ms/step - loss: 938.1183\n",
      "Epoch 13/20\n",
      "409/409 [==============================] - 6s 15ms/step - loss: 110.9104\n",
      "Epoch 14/20\n",
      "409/409 [==============================] - 6s 15ms/step - loss: 103.0116\n",
      "Epoch 15/20\n",
      "409/409 [==============================] - 6s 16ms/step - loss: 100.4647\n",
      "Epoch 16/20\n",
      "409/409 [==============================] - 7s 16ms/step - loss: 92.5557\n",
      "Epoch 17/20\n",
      "409/409 [==============================] - 6s 16ms/step - loss: 87.2426\n",
      "Epoch 18/20\n",
      "409/409 [==============================] - 7s 16ms/step - loss: 89.4014\n",
      "Epoch 19/20\n",
      "409/409 [==============================] - 7s 16ms/step - loss: 84.8974\n",
      "Epoch 20/20\n",
      "409/409 [==============================] - 7s 16ms/step - loss: 84.9995\n"
     ]
    }
   ],
   "source": [
    "model = build_model(train, n_input, dias)"
   ]
  },
  {
   "cell_type": "code",
   "execution_count": 156,
   "metadata": {
    "collapsed": true
   },
   "outputs": [],
   "source": [
    "pred = predizer(train, test, n_input, dias, model)"
   ]
  },
  {
   "cell_type": "code",
   "execution_count": 157,
   "metadata": {},
   "outputs": [
    {
     "data": {
      "image/png": "[encoded data removed]",
      "text/plain": [
       "<Figure size 720x576 with 1 Axes>"
      ]
     },
     "metadata": {},
     "output_type": "display_data"
    }
   ],
   "source": [
    "import matplotlib.pyplot as plt\n",
    "plt.figure(figsize=(10,8))\n",
    "plt.plot(test.flatten(), label = 'real')\n",
    "plt.plot(pred.flatten(), label = 'predito')\n",
    "plt.legend()\n",
    "plt.show()"
   ]
  },
  {
   "cell_type": "code",
   "execution_count": 158,
   "metadata": {
    "collapsed": true
   },
   "outputs": [],
   "source": [
    "dias = 10\n",
    "n_input = 60\n",
    "amostras = 4850\n",
    "lim_treino = amostras - dias"
   ]
  },
  {
   "cell_type": "code",
   "execution_count": 159,
   "metadata": {
    "collapsed": true
   },
   "outputs": [],
   "source": [
    "df = read_csv('/Users/Anderson/Documents/aprendizado/final/scc5943projeto/preprocessing/denoised-series.csv')\n",
    "\n",
    "df = df.iloc[:amostras]\n",
    "\n",
    "dataset = df['denoised']\n",
    "\n",
    "train, test = split_dataset(dataset.values, dias, lim_treino)"
   ]
  },
  {
   "cell_type": "code",
   "execution_count": 162,
   "metadata": {},
   "outputs": [
    {
     "name": "stdout",
     "output_type": "stream",
     "text": [
      "Epoch 1/20\n",
      "414/414 [==============================] - 13s 32ms/step - loss: 928.8888\n",
      "Epoch 2/20\n",
      "414/414 [==============================] - 7s 16ms/step - loss: 1625.2388\n",
      "Epoch 3/20\n",
      "414/414 [==============================] - 6s 16ms/step - loss: 600.0852\n",
      "Epoch 4/20\n",
      "414/414 [==============================] - 6s 16ms/step - loss: 270.4345\n",
      "Epoch 5/20\n",
      "414/414 [==============================] - 6s 16ms/step - loss: 197.5946\n",
      "Epoch 6/20\n",
      "414/414 [==============================] - 6s 16ms/step - loss: 327.6670\n",
      "Epoch 7/20\n",
      "414/414 [==============================] - 6s 15ms/step - loss: 247.4822\n",
      "Epoch 8/20\n",
      "414/414 [==============================] - 6s 15ms/step - loss: 292.8587\n",
      "Epoch 9/20\n",
      "414/414 [==============================] - 6s 15ms/step - loss: 250.0124\n",
      "Epoch 10/20\n",
      "414/414 [==============================] - 7s 16ms/step - loss: 233.5787\n",
      "Epoch 11/20\n",
      "414/414 [==============================] - 6s 16ms/step - loss: 290.8248\n",
      "Epoch 12/20\n",
      "414/414 [==============================] - 7s 16ms/step - loss: 225.9644\n",
      "Epoch 13/20\n",
      "414/414 [==============================] - 7s 16ms/step - loss: 206.0965\n",
      "Epoch 14/20\n",
      "414/414 [==============================] - 7s 16ms/step - loss: 211.9197\n",
      "Epoch 15/20\n",
      "414/414 [==============================] - 6s 15ms/step - loss: 193.4964\n",
      "Epoch 16/20\n",
      "414/414 [==============================] - 7s 16ms/step - loss: 205.6141\n",
      "Epoch 17/20\n",
      "414/414 [==============================] - 7s 16ms/step - loss: 205.6509\n",
      "Epoch 18/20\n",
      "414/414 [==============================] - 7s 16ms/step - loss: 220.9520\n",
      "Epoch 19/20\n",
      "414/414 [==============================] - 6s 16ms/step - loss: 207.2185\n",
      "Epoch 20/20\n",
      "414/414 [==============================] - 6s 16ms/step - loss: 187.5685\n"
     ]
    }
   ],
   "source": [
    "model = build_model(train, n_input, dias)"
   ]
  },
  {
   "cell_type": "code",
   "execution_count": 163,
   "metadata": {
    "collapsed": true
   },
   "outputs": [],
   "source": [
    "pred = predizer(train, test, n_input, dias, model)"
   ]
  },
  {
   "cell_type": "code",
   "execution_count": 164,
   "metadata": {},
   "outputs": [
    {
     "data": {
      "image/png": "[encoded data removed]",
      "text/plain": [
       "<Figure size 720x576 with 1 Axes>"
      ]
     },
     "metadata": {},
     "output_type": "display_data"
    }
   ],
   "source": [
    "import matplotlib.pyplot as plt\n",
    "plt.figure(figsize=(10,8))\n",
    "plt.plot(test.flatten(), label = 'real')\n",
    "plt.plot(pred.flatten(), label = 'predito')\n",
    "plt.legend()\n",
    "plt.show()"
   ]
  },
  {
   "cell_type": "code",
   "execution_count": null,
   "metadata": {
    "collapsed": true
   },
   "outputs": [],
   "source": []
  }
 ],
 "metadata": {
  "kernelspec": {
   "display_name": "Python 3",
   "language": "python",
   "name": "python3"
  },
  "language_info": {
   "codemirror_mode": {
    "name": "ipython",
    "version": 3
   },
   "file_extension": ".py",
   "mimetype": "text/x-python",
   "name": "python",
   "nbconvert_exporter": "python",
   "pygments_lexer": "ipython3",
   "version": "3.6.5"
  }
 },
 "nbformat": 4,
 "nbformat_minor": 2
}
